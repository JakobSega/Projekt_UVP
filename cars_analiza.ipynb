import pandas as pd
import os
pd.set_option('display.max_rows', 20)
%matplotlib inline
path = os.path.join('cars', 'cars.csv')
cars = pd.read_csv(path)