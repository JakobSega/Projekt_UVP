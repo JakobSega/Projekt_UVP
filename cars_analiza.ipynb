{
 "cells": [
  {
   "cell_type": "code",
   "execution_count": null,
   "metadata": {},
   "outputs": [],
   "source": [
    "import pandas as pd\n",
    "import os\n",
    "pd.set_option('display.max_rows', 20)\n",
    "%matplotlib inline\n",
    "path = os.path.join('cars', 'cars.csv')\n",
    "cars = pd.read_csv(path)"
   ]
  }
 ],
 "metadata": {
  "language_info": {
   "name": "python"
  },
  "orig_nbformat": 4
 },
 "nbformat": 4,
 "nbformat_minor": 2
}
